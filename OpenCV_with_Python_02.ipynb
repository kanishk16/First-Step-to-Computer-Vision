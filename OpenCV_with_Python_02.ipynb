{
  "nbformat": 4,
  "nbformat_minor": 0,
  "metadata": {
    "colab": {
      "name": "OpenCV with Python #02.ipynb",
      "version": "0.3.2",
      "provenance": [],
      "collapsed_sections": []
    },
    "kernelspec": {
      "name": "python3",
      "display_name": "Python 3"
    },
    "accelerator": "GPU"
  },
  "cells": [
    {
      "cell_type": "code",
      "metadata": {
        "id": "Rp4fi6HqOfHP",
        "colab_type": "code",
        "outputId": "3a4e89cd-6987-4e65-ca11-14fe9eb81475",
        "colab": {
          "base_uri": "https://localhost:8080/",
          "height": 34
        }
      },
      "source": [
        "# neccessary imports\n",
        "import cv2 as cv\n",
        "import numpy as np\n",
        "import matplotlib.pyplot as plt\n",
        "from google.colab.patches import cv2_imshow as cv_imshow\n",
        "\n",
        "# version check\n",
        "cv.__version__"
      ],
      "execution_count": 1,
      "outputs": [
        {
          "output_type": "execute_result",
          "data": {
            "text/plain": [
              "'3.4.3'"
            ]
          },
          "metadata": {
            "tags": []
          },
          "execution_count": 1
        }
      ]
    },
    {
      "cell_type": "markdown",
      "metadata": {
        "id": "boAZMMWYQGY0",
        "colab_type": "text"
      },
      "source": [
        "* Working with Web Cam or Video Feed\n",
        "> cv.VideoCapture(flag)\n",
        "\n",
        "  flag : \n",
        "  * 0 - Default WebCam\n",
        "  * 1 - Webcam 02    \n",
        "    \n",
        "* NOTE: OpenCv can only access hardware connected to HOST\n",
        "> Basically, where the server of Jupyter Notebook is running\n",
        "\n",
        " > Won't run in cases of SERVER HOSTED Notebooks --> JS to its rescue \n",
        "\n",
        "         "
      ]
    },
    {
      "cell_type": "code",
      "metadata": {
        "colab_type": "code",
        "id": "ZKiRBSN-O6IS",
        "outputId": "e647706d-b4fa-4f53-dcdf-def294f345be",
        "colab": {
          "base_uri": "https://localhost:8080/",
          "height": 251
        }
      },
      "source": [
        "# help(cv.VideoCapture())\n",
        "# cv_imshow(cv.VideoCapture(0))\n",
        "\n",
        "# Get the webcam\n",
        "cap = cv.VideoCapture(0)\n",
        "\n",
        "# Infinite loop: looping over all the frames(captured) until it exits out\n",
        "while True:\n",
        "  # Analysis of the video inside this loop\n",
        "  # stop - True or False based on the presence of feed\n",
        "  # frame - loads the frame \n",
        "  stop, frame = cap.read()\n",
        "  \n",
        "  # apply operations on the frame\n",
        "  gray_frame = cv.cvtColor(frame, cv.COLOR_BGR2GRAY)\n",
        "  \n",
        "  # display the frame\n",
        "  cv_imshow(frame)\n",
        "  \n",
        "  # condn. to stop processing the frames + close window on a specified keypress\n",
        "  if cv.waitKey(1) & 0xFF == ord('q'):\n",
        "    break\n",
        "\n",
        "# release the capture(camera) else ERROR as it is already in use\n",
        "cap.release()\n",
        "cv.destroyAllWindows()"
      ],
      "execution_count": 0,
      "outputs": [
        {
          "output_type": "error",
          "ename": "error",
          "evalue": "ignored",
          "traceback": [
            "\u001b[0;31m---------------------------------------------------------------------------\u001b[0m",
            "\u001b[0;31merror\u001b[0m                                     Traceback (most recent call last)",
            "\u001b[0;32m<ipython-input-27-2044a93b4bc9>\u001b[0m in \u001b[0;36m<module>\u001b[0;34m()\u001b[0m\n\u001b[1;32m      8\u001b[0m \u001b[0;34m\u001b[0m\u001b[0m\n\u001b[1;32m      9\u001b[0m   \u001b[0;31m# apply operations on the frame\u001b[0m\u001b[0;34m\u001b[0m\u001b[0;34m\u001b[0m\u001b[0;34m\u001b[0m\u001b[0m\n\u001b[0;32m---> 10\u001b[0;31m   \u001b[0mgray_frame\u001b[0m \u001b[0;34m=\u001b[0m \u001b[0mcv\u001b[0m\u001b[0;34m.\u001b[0m\u001b[0mcvtColor\u001b[0m\u001b[0;34m(\u001b[0m\u001b[0mframe\u001b[0m\u001b[0;34m,\u001b[0m \u001b[0mcv\u001b[0m\u001b[0;34m.\u001b[0m\u001b[0mCOLOR_BGR2GRAY\u001b[0m\u001b[0;34m)\u001b[0m\u001b[0;34m\u001b[0m\u001b[0;34m\u001b[0m\u001b[0m\n\u001b[0m\u001b[1;32m     11\u001b[0m \u001b[0;34m\u001b[0m\u001b[0m\n\u001b[1;32m     12\u001b[0m   \u001b[0;31m# display the frame\u001b[0m\u001b[0;34m\u001b[0m\u001b[0;34m\u001b[0m\u001b[0;34m\u001b[0m\u001b[0m\n",
            "\u001b[0;31merror\u001b[0m: OpenCV(3.4.3) /io/opencv/modules/imgproc/src/color.cpp:181: error: (-215:Assertion failed) !_src.empty() in function 'cvtColor'\n"
          ]
        }
      ]
    },
    {
      "cell_type": "code",
      "metadata": {
        "id": "ODNy1mOVq2t9",
        "colab_type": "code",
        "colab": {}
      },
      "source": [
        "# help(cv.waitKey)\n",
        "a,b = 1,1 \n",
        "print(\"a=\",a,\"b=\",b)\n",
        "if(a & b):\n",
        "  print(\"What?\")\n",
        "  help('ord')\n",
        "  print(ord('a'))\n",
        "  print(type(bin(6)))\n",
        "  "
      ],
      "execution_count": 0,
      "outputs": []
    },
    {
      "cell_type": "markdown",
      "metadata": {
        "id": "vv2jeywg3F-R",
        "colab_type": "text"
      },
      "source": [
        "* What is pytube?\n",
        "> lightweight + dependency free python library + command-line utility for downloading YouTube videos "
      ]
    },
    {
      "cell_type": "code",
      "metadata": {
        "id": "KuaE3z3VgGO8",
        "colab_type": "code",
        "outputId": "9a345d07-b419-4e5a-dd60-0b03b449d4c3",
        "colab": {
          "base_uri": "https://localhost:8080/",
          "height": 107
        }
      },
      "source": [
        "# DO NOT use pip to install/update pytube as the current release isn't updated with issue #434 but works fine for a SINGLE VIDEO\n",
        "!pip install pytube"
      ],
      "execution_count": 2,
      "outputs": [
        {
          "output_type": "stream",
          "text": [
            "Collecting pytube\n",
            "  Downloading https://files.pythonhosted.org/packages/dc/f4/848b7be3240300ce6b361b03464d0ab9260cc3230b98321d2bbae3a19c50/pytube-9.5.1-py3-none-any.whl\n",
            "Installing collected packages: pytube\n",
            "Successfully installed pytube-9.5.1\n"
          ],
          "name": "stdout"
        }
      ]
    },
    {
      "cell_type": "code",
      "metadata": {
        "id": "Bh7peYmrIyWz",
        "colab_type": "code",
        "colab": {
          "base_uri": "https://localhost:8080/",
          "height": 34
        },
        "outputId": "e7d6cab4-aa7a-4750-b485-6812959b2f4d"
      },
      "source": [
        "# % - use in case where command is relevant to the only env. of the notebook but not to the entire server \n",
        "%cd /usr/local/lib/python3.6/dist-packages/\n",
        "# !ls -a"
      ],
      "execution_count": 3,
      "outputs": [
        {
          "output_type": "stream",
          "text": [
            "/usr/local/lib/python3.6/dist-packages\n"
          ],
          "name": "stdout"
        }
      ]
    },
    {
      "cell_type": "code",
      "metadata": {
        "id": "stMHczpG87hb",
        "colab_type": "code",
        "colab": {
          "base_uri": "https://localhost:8080/",
          "height": 141
        },
        "outputId": "01c60782-e285-42fe-8fde-10bebcf9a7dd"
      },
      "source": [
        "!git clone https://github.com/nficano/pytube.git"
      ],
      "execution_count": 4,
      "outputs": [
        {
          "output_type": "stream",
          "text": [
            "Cloning into 'pytube'...\n",
            "remote: Enumerating objects: 19, done.\u001b[K\n",
            "remote: Counting objects: 100% (19/19), done.\u001b[K\n",
            "remote: Compressing objects: 100% (19/19), done.\u001b[K\n",
            "remote: Total 3667 (delta 10), reused 0 (delta 0), pack-reused 3648\u001b[K\n",
            "Receiving objects: 100% (3667/3667), 3.48 MiB | 5.52 MiB/s, done.\n",
            "Resolving deltas: 100% (2390/2390), done.\n"
          ],
          "name": "stdout"
        }
      ]
    },
    {
      "cell_type": "code",
      "metadata": {
        "id": "Ue6pMPXSIAyD",
        "colab_type": "code",
        "colab": {
          "base_uri": "https://localhost:8080/",
          "height": 247
        },
        "outputId": "9fb06db0-34b6-418e-b2eb-08baf2bdb63a"
      },
      "source": [
        "%cd pytube/\n",
        "!git pull origin pull/435/head"
      ],
      "execution_count": 5,
      "outputs": [
        {
          "output_type": "stream",
          "text": [
            "/usr/local/lib/python3.6/dist-packages/pytube\n",
            "remote: Enumerating objects: 8, done.\u001b[K\n",
            "remote: Counting objects: 100% (8/8), done.\u001b[K\n",
            "remote: Compressing objects: 100% (2/2), done.\u001b[K\n",
            "remote: Total 8 (delta 6), reused 8 (delta 6), pack-reused 0\u001b[K\n",
            "Unpacking objects: 100% (8/8), done.\n",
            "From https://github.com/nficano/pytube\n",
            " * branch            refs/pull/435/head -> FETCH_HEAD\n",
            "Updating 7e0cd4e..3fc4a38\n",
            "Fast-forward\n",
            " pytube/__main__.py | 23 \u001b[32m++++++++++++++++++++\u001b[m\u001b[31m---\u001b[m\n",
            " pytube/streams.py  |  2 \u001b[32m+\u001b[m\u001b[31m-\u001b[m\n",
            " 2 files changed, 21 insertions(+), 4 deletions(-)\n"
          ],
          "name": "stdout"
        }
      ]
    },
    {
      "cell_type": "code",
      "metadata": {
        "id": "lV1CTus6XBd-",
        "colab_type": "code",
        "colab": {}
      },
      "source": [
        "%cd /usr/local/lib/python3.6/dist-packages/pytube\n",
        "!ls -a"
      ],
      "execution_count": 0,
      "outputs": []
    },
    {
      "cell_type": "code",
      "metadata": {
        "id": "QAUDtVdhOi4f",
        "colab_type": "code",
        "colab": {
          "base_uri": "https://localhost:8080/",
          "height": 52
        },
        "outputId": "faca793b-a22a-4e73-8441-ce8d984b9859"
      },
      "source": [
        "## Creating a function to download a youtube video from a url specified by the USER\n",
        "\n",
        "# incorrect import style as YouTube is a class and not a module\n",
        "# import pytube.YouTube as yt\n",
        "\n",
        "# uncomment to see the pytube namespace\n",
        "# import pytube as yt\n",
        "\n",
        "from pytube import YouTube \n",
        "\n",
        "# dir() - returns a list of namespace in that module/package \n",
        "# print(dir(YouTube))\n",
        "# help(YouTube)\n",
        "\n",
        "def dl_video(url, file_path, file_name):\n",
        "  #_path = file_path + file_name \n",
        "  \n",
        "  # create an object of class YouTube\n",
        "  _youtube = YouTube(url)\n",
        "  \n",
        "  # filters out the files with mp4 extension \n",
        "  # mp4files = yt.filter('mp4')\n",
        "  \n",
        "  # fetch the video with extension + resolution specified\n",
        "  #_video = yt.get(mp4files[-1].extension, mp4files[-1].resolution)\n",
        "\n",
        "  _video = _youtube.streams.first()\n",
        "  \n",
        "  # download the video\n",
        "  _video.download(file_path, file_name)\n",
        "  \n",
        "url = input(\"URL: \")\n",
        "saveas = input(\"File Name: \")\n",
        "\n",
        "# dl_video(url, saveas)\n",
        "dl_video(url, '/content/', saveas)\n",
        "\n",
        "# https://www.youtube.com/watch?v=8h9vU1pnNZA"
      ],
      "execution_count": 3,
      "outputs": [
        {
          "output_type": "stream",
          "text": [
            "URL: https://www.youtube.com/watch?v=8h9vU1pnNZA\n",
            "File Name: sample_video_1min\n"
          ],
          "name": "stdout"
        }
      ]
    },
    {
      "cell_type": "code",
      "metadata": {
        "colab_type": "code",
        "outputId": "31fb5a59-2326-470d-c6ad-57e7cfb96806",
        "id": "6uxtXKWzjPbl",
        "colab": {
          "base_uri": "https://localhost:8080/",
          "height": 54
        }
      },
      "source": [
        "# from pytube import YouTube\n",
        "print(dir(YouTube))\n"
      ],
      "execution_count": 39,
      "outputs": [
        {
          "output_type": "stream",
          "text": [
            "['__class__', '__delattr__', '__dict__', '__dir__', '__doc__', '__eq__', '__format__', '__ge__', '__getattribute__', '__gt__', '__hash__', '__init__', '__init_subclass__', '__le__', '__lt__', '__module__', '__ne__', '__new__', '__reduce__', '__reduce_ex__', '__repr__', '__setattr__', '__sizeof__', '__str__', '__subclasshook__', '__weakref__', 'captions', 'description', 'init', 'initialize_caption_objects', 'initialize_stream_objects', 'length', 'prefetch', 'prefetch_init', 'rating', 'register_on_complete_callback', 'register_on_progress_callback', 'streams', 'thumbnail_url', 'title', 'views']\n"
          ],
          "name": "stdout"
        }
      ]
    },
    {
      "cell_type": "code",
      "metadata": {
        "id": "_xJSmjoFK_Zy",
        "colab_type": "code",
        "outputId": "915e3c1b-5bec-4600-83ec-13c9f9b66ed1",
        "colab": {
          "base_uri": "https://localhost:8080/",
          "height": 51
        }
      },
      "source": [
        "# help(cv.VideoCapture)\n",
        "\n",
        "# Get the video\n",
        "cap = cv.VideoCapture(\"/content/video_02.avi\")\n",
        "\n",
        "print(type(cap))\n",
        "print(cap.isOpened())\n",
        "# # Infinite loop: looping over all the frames(captured) until it exits out\n",
        "# while True:\n",
        "#   # Analysis of the video inside this loop\n",
        "#   # stop - True or False based on the presence of feed\n",
        "#   # frame - loads the frame \n",
        "#   stop, frame = cap.read()\n",
        "  \n",
        "#   # apply operations on the frame\n",
        "#   gray_frame = cv.cvtColor(frame, cv.COLOR_BGR2GRAY)\n",
        "  \n",
        "#   # display the frame\n",
        "#   cv_imshow(frame)\n",
        "  \n",
        "#   # condn. to stop processing the frames + close window on a specified keypress\n",
        "#   if cv.waitKey(1) & 0xFF == ord('q'):\n",
        "#     break\n",
        "\n",
        "# # release the capture(camera) else ERROR as it is already in use\n",
        "# cap.release()\n",
        "# cv.destroyAllWindows()\n"
      ],
      "execution_count": 0,
      "outputs": [
        {
          "output_type": "stream",
          "text": [
            "<class 'cv2.VideoCapture'>\n",
            "False\n"
          ],
          "name": "stdout"
        }
      ]
    },
    {
      "cell_type": "code",
      "metadata": {
        "id": "hXo1SJF-oOny",
        "colab_type": "code",
        "colab": {}
      },
      "source": [
        "# I have no idea who is the author of the code\n",
        "# in this cell that saves an image from a webcam\n",
        "# inside google colab.\n",
        "# It comes from a notebook called \"📸 Take a photo with your webcam\"\n",
        "\n",
        "from IPython.display import HTML, Audio\n",
        "from google.colab.output import eval_js\n",
        "from base64 import b64decode\n",
        "import numpy as np\n",
        "import io\n",
        "from PIL import Image\n",
        "\n",
        "VIDEO_HTML = \"\"\"\n",
        "<video autoplay\n",
        " width=%d height=%d style='cursor: pointer;'></video>\n",
        "<script>\n",
        "\n",
        "var video = document.querySelector('video')\n",
        "\n",
        "navigator.mediaDevices.getUserMedia({ video: true })\n",
        "  .then(stream=> video.srcObject = stream)\n",
        "  \n",
        "var data = new Promise(resolve=>{\n",
        "  video.onclick = ()=>{\n",
        "    var canvas = document.createElement('canvas')\n",
        "    var [w,h] = [video.offsetWidth, video.offsetHeight]\n",
        "    canvas.width = w\n",
        "    canvas.height = h\n",
        "    canvas.getContext('2d')\n",
        "          .drawImage(video, 0, 0, w, h)\n",
        "    video.srcObject.getVideoTracks()[0].stop()\n",
        "    video.replaceWith(canvas)\n",
        "    resolve(canvas.toDataURL('image/jpeg', %f))\n",
        "  }\n",
        "})\n",
        "</script>\n",
        "\"\"\"\n",
        "def take_photo(filename='photo.jpg', quality=0.8, size=(800,600)):\n",
        "  display(HTML(VIDEO_HTML % (size[0],size[1],quality)))\n",
        "  data = eval_js(\"data\")\n",
        "  binary = b64decode(data.split(',')[1])\n",
        "  f = io.BytesIO(binary)\n",
        "  return np.asarray(Image.open(f))\n",
        "#   with open(filename, 'wb') as f:\n",
        "#     f.write(binary)\n",
        "#   return len(binary)"
      ],
      "execution_count": 0,
      "outputs": []
    },
    {
      "cell_type": "code",
      "metadata": {
        "id": "fXKTrdARoV9q",
        "colab_type": "code",
        "colab": {}
      },
      "source": [
        "img = take_photo() # click"
      ],
      "execution_count": 0,
      "outputs": []
    }
  ]
}