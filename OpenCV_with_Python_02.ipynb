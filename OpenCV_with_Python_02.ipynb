{
  "nbformat": 4,
  "nbformat_minor": 0,
  "metadata": {
    "colab": {
      "name": "OpenCV with Python #02.ipynb",
      "version": "0.3.2",
      "provenance": [],
      "collapsed_sections": []
    },
    "kernelspec": {
      "name": "python3",
      "display_name": "Python 3"
    },
    "accelerator": "GPU"
  },
  "cells": [
    {
      "cell_type": "code",
      "metadata": {
        "id": "Rp4fi6HqOfHP",
        "colab_type": "code",
        "outputId": "a70b01d8-a071-451a-f53b-3d87e269893f",
        "colab": {
          "base_uri": "https://localhost:8080/",
          "height": 34
        }
      },
      "source": [
        "# neccessary imports\n",
        "import cv2 as cv\n",
        "import numpy as np\n",
        "import matplotlib.pyplot as plt\n",
        "from google.colab.patches import cv2_imshow as cv_imshow\n",
        "\n",
        "# version check\n",
        "cv.__version__"
      ],
      "execution_count": 0,
      "outputs": [
        {
          "output_type": "execute_result",
          "data": {
            "text/plain": [
              "'3.4.3'"
            ]
          },
          "metadata": {
            "tags": []
          },
          "execution_count": 1
        }
      ]
    },
    {
      "cell_type": "markdown",
      "metadata": {
        "id": "boAZMMWYQGY0",
        "colab_type": "text"
      },
      "source": [
        "* Working with Web Cam or Video Feed\n",
        "> cv.VideoCapture(flag)\n",
        "\n",
        "  flag : \n",
        "  * 0 - Default WebCam\n",
        "  * 1 - Webcam 02    \n",
        "    \n",
        "* NOTE: OpenCv can only access hardware connected to HOST\n",
        "> Basically, where the server of Jupyter Notebook is running\n",
        "\n",
        " > Won't run in cases of SERVER HOSTED Notebooks --> JS to its rescue \n",
        "\n",
        "         "
      ]
    },
    {
      "cell_type": "code",
      "metadata": {
        "colab_type": "code",
        "id": "ZKiRBSN-O6IS",
        "outputId": "e647706d-b4fa-4f53-dcdf-def294f345be",
        "colab": {
          "base_uri": "https://localhost:8080/",
          "height": 251
        }
      },
      "source": [
        "# help(cv.VideoCapture())\n",
        "# cv_imshow(cv.VideoCapture(0))\n",
        "\n",
        "# Get the webcam\n",
        "cap = cv.VideoCapture(0)\n",
        "\n",
        "# Infinite loop: looping over all the frames(captured) until it exits out\n",
        "while True:\n",
        "  # Analysis of the video inside this loop\n",
        "  # stop - True or False based on the presence of feed\n",
        "  # frame - loads the frame \n",
        "  stop, frame = cap.read()\n",
        "  \n",
        "  # apply operations on the frame\n",
        "  gray_frame = cv.cvtColor(frame, cv.COLOR_BGR2GRAY)\n",
        "  \n",
        "  # display the frame\n",
        "  cv_imshow(frame)\n",
        "  \n",
        "  # condn. to stop processing the frames + close window on a specified keypress\n",
        "  if cv.waitKey(1) & 0xFF == ord('q'):\n",
        "    break\n",
        "\n",
        "# release the capture(camera) else ERROR as it is already in use\n",
        "cap.release()\n",
        "cv.destroyAllWindows()"
      ],
      "execution_count": 27,
      "outputs": [
        {
          "output_type": "error",
          "ename": "error",
          "evalue": "ignored",
          "traceback": [
            "\u001b[0;31m---------------------------------------------------------------------------\u001b[0m",
            "\u001b[0;31merror\u001b[0m                                     Traceback (most recent call last)",
            "\u001b[0;32m<ipython-input-27-2044a93b4bc9>\u001b[0m in \u001b[0;36m<module>\u001b[0;34m()\u001b[0m\n\u001b[1;32m      8\u001b[0m \u001b[0;34m\u001b[0m\u001b[0m\n\u001b[1;32m      9\u001b[0m   \u001b[0;31m# apply operations on the frame\u001b[0m\u001b[0;34m\u001b[0m\u001b[0;34m\u001b[0m\u001b[0;34m\u001b[0m\u001b[0m\n\u001b[0;32m---> 10\u001b[0;31m   \u001b[0mgray_frame\u001b[0m \u001b[0;34m=\u001b[0m \u001b[0mcv\u001b[0m\u001b[0;34m.\u001b[0m\u001b[0mcvtColor\u001b[0m\u001b[0;34m(\u001b[0m\u001b[0mframe\u001b[0m\u001b[0;34m,\u001b[0m \u001b[0mcv\u001b[0m\u001b[0;34m.\u001b[0m\u001b[0mCOLOR_BGR2GRAY\u001b[0m\u001b[0;34m)\u001b[0m\u001b[0;34m\u001b[0m\u001b[0;34m\u001b[0m\u001b[0m\n\u001b[0m\u001b[1;32m     11\u001b[0m \u001b[0;34m\u001b[0m\u001b[0m\n\u001b[1;32m     12\u001b[0m   \u001b[0;31m# display the frame\u001b[0m\u001b[0;34m\u001b[0m\u001b[0;34m\u001b[0m\u001b[0;34m\u001b[0m\u001b[0m\n",
            "\u001b[0;31merror\u001b[0m: OpenCV(3.4.3) /io/opencv/modules/imgproc/src/color.cpp:181: error: (-215:Assertion failed) !_src.empty() in function 'cvtColor'\n"
          ]
        }
      ]
    },
    {
      "cell_type": "code",
      "metadata": {
        "id": "ODNy1mOVq2t9",
        "colab_type": "code",
        "outputId": "9b839825-8a5f-4b67-8338-023abd0afc0f",
        "colab": {
          "base_uri": "https://localhost:8080/",
          "height": 170
        }
      },
      "source": [
        "# help(cv.waitKey)\n",
        "a,b = 1,1 \n",
        "print(\"a=\",a,\"b=\",b)\n",
        "if(a & b):\n",
        "  print(\"What?\")\n",
        "  help('ord')\n",
        "  print(ord('a'))\n",
        "  print(type(bin(6)))\n",
        "  \n",
        "  "
      ],
      "execution_count": 0,
      "outputs": [
        {
          "output_type": "stream",
          "text": [
            "a= 1 b= 1\n",
            "What?\n",
            "Help on built-in function ord in module builtins:\n",
            "\n",
            "ord(c, /)\n",
            "    Return the Unicode code point for a one-character string.\n",
            "\n",
            "97\n",
            "<class 'str'>\n"
          ],
          "name": "stdout"
        }
      ]
    }
  ]
}